{
 "cells": [
  {
   "cell_type": "markdown",
   "id": "1d25406c-5eb5-4429-b850-18a0f23749dd",
   "metadata": {},
   "source": [
    "<H1>Data Science Tools and Ecosystem"
   ]
  },
  {
   "cell_type": "markdown",
   "id": "23fbaef0-4807-4911-819b-1fb771b24a15",
   "metadata": {},
   "source": [
    "In this notebook, Data Science Tools and Ecosystem are summarized."
   ]
  },
  {
   "cell_type": "markdown",
   "id": "91559c48-c5ed-4378-9702-66428e883c90",
   "metadata": {},
   "source": [
    "**Objectives:**\n",
    "- Python\n",
    "- Scala\n",
    "- R\n",
    "- java"
   ]
  },
  {
   "cell_type": "markdown",
   "id": "1678a758-91d4-4880-8dfc-8276166821d4",
   "metadata": {},
   "source": [
    "Some of the popular languages that Data Scientists use are:\n",
    "<br> python\n",
    "<br> R\n",
    "<br> Scala"
   ]
  },
  {
   "cell_type": "markdown",
   "id": "f0a0ed1e-586a-40c3-ba1a-5fb09c7b0811",
   "metadata": {},
   "source": [
    "Some of the commonly used libraries used by Data Scientists include:\n",
    "<br> NumPy <br> SciPy <br> panda <br> ggplot2"
   ]
  },
  {
   "cell_type": "markdown",
   "id": "dca1c6ea-2aab-4863-9f34-41a5efa1e89e",
   "metadata": {},
   "source": [
    "Data Science Tools<br>\n",
    "| RStudio     | Jupyterlab |Google Colab |\n",
    "| ----------- | -----------|-------------|"
   ]
  },
  {
   "cell_type": "markdown",
   "id": "d7b3325e-0564-4d77-bfe6-c76eeda7ee8d",
   "metadata": {},
   "source": [
    "<h3>Below are a few examples of evaluating arithmetic expressions in Python"
   ]
  },
  {
   "cell_type": "code",
   "execution_count": 3,
   "id": "a54a6107-0e59-4f44-a0e8-e74caf602766",
   "metadata": {},
   "outputs": [
    {
     "data": {
      "text/plain": [
       "17"
      ]
     },
     "execution_count": 3,
     "metadata": {},
     "output_type": "execute_result"
    }
   ],
   "source": [
    "#This a simple arithmetic expression to mutiply then add integers\n",
    "(3*4)+5"
   ]
  },
  {
   "cell_type": "code",
   "execution_count": 4,
   "id": "7cb64d56-844f-4560-b9ae-93b03f0ce901",
   "metadata": {},
   "outputs": [
    {
     "data": {
      "text/plain": [
       "3.3333333333333335"
      ]
     },
     "execution_count": 4,
     "metadata": {},
     "output_type": "execute_result"
    }
   ],
   "source": [
    "#This will convert 200 minutes to hours by diving by 60\n",
    "200/60"
   ]
  },
  {
   "cell_type": "markdown",
   "id": "b620dead-aab1-49a5-a713-d2419ed08fd7",
   "metadata": {},
   "source": [
    "<h2> Author </h2>\n",
    "    Ahmad"
   ]
  }
 ],
 "metadata": {
  "kernelspec": {
   "display_name": "Python 3 (ipykernel)",
   "language": "python",
   "name": "python3"
  },
  "language_info": {
   "codemirror_mode": {
    "name": "ipython",
    "version": 3
   },
   "file_extension": ".py",
   "mimetype": "text/x-python",
   "name": "python",
   "nbconvert_exporter": "python",
   "pygments_lexer": "ipython3",
   "version": "3.11.4"
  }
 },
 "nbformat": 4,
 "nbformat_minor": 5
}
